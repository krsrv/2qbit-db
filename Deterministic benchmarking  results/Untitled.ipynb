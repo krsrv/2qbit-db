{
 "cells": [
  {
   "cell_type": "code",
   "execution_count": 1,
   "id": "d2820043-11b0-44f9-817a-5240aae8cb5c",
   "metadata": {},
   "outputs": [],
   "source": [
    "import numpy as np"
   ]
  },
  {
   "cell_type": "code",
   "execution_count": 2,
   "id": "b01a9b72-90ef-4de8-b781-8e2881377b79",
   "metadata": {},
   "outputs": [
    {
     "name": "stdout",
     "output_type": "stream",
     "text": [
      "[  0.   4.   8.  12.  16.  20.  24.  28.  32.  36.  40.  44.  48.  52.\n",
      "  56.  60.  64.  68.  72.  76.  80.  84.  88.  92.  96. 100.]\n"
     ]
    }
   ],
   "source": [
    "num_cz_gates = np.load(\"num_cz_gates.npy\");\n",
    "print(num_cz_gates)"
   ]
  },
  {
   "cell_type": "code",
   "execution_count": null,
   "id": "d1e7e0c5-01dd-4949-86dd-d11958a7eeec",
   "metadata": {},
   "outputs": [],
   "source": [
    "import os\n",
    "\n",
    "files = [f for f in os.listdir() if f.startswith('pop') and os.path.isfile(f)]\n",
    "\n",
    "print(files)\n",
    "data = np.load(\"pop_00_vs_exp.npy\");\n",
    "print(data)"
   ]
  }
 ],
 "metadata": {
  "kernelspec": {
   "display_name": "Python (Basic packages)",
   "language": "python",
   "name": "basic_scientific"
  },
  "language_info": {
   "codemirror_mode": {
    "name": "ipython",
    "version": 3
   },
   "file_extension": ".py",
   "mimetype": "text/x-python",
   "name": "python",
   "nbconvert_exporter": "python",
   "pygments_lexer": "ipython3",
   "version": "3.13.5"
  }
 },
 "nbformat": 4,
 "nbformat_minor": 5
}
